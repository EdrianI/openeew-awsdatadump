{
 "metadata": {
  "language_info": {
   "codemirror_mode": {
    "name": "ipython",
    "version": 3
   },
   "file_extension": ".py",
   "mimetype": "text/x-python",
   "name": "python",
   "nbconvert_exporter": "python",
   "pygments_lexer": "ipython3",
   "version": "3.7.6-final"
  },
  "orig_nbformat": 2,
  "kernelspec": {
   "name": "python37664bitbaseconda4faaeb2b07ca4da8ae8889aea22c3c5f",
   "display_name": "Python 3.7.6 64-bit ('base': conda)"
  }
 },
 "nbformat": 4,
 "nbformat_minor": 2,
 "cells": [
  {
   "cell_type": "code",
   "execution_count": 17,
   "metadata": {},
   "outputs": [
    {
     "output_type": "execute_result",
     "data": {
      "text/plain": [
       "   a  b\n",
       "0  1  1\n",
       "1  2  2\n",
       "2  3  3"
      ],
      "text/html": "<div>\n<style scoped>\n    .dataframe tbody tr th:only-of-type {\n        vertical-align: middle;\n    }\n\n    .dataframe tbody tr th {\n        vertical-align: top;\n    }\n\n    .dataframe thead th {\n        text-align: right;\n    }\n</style>\n<table border=\"1\" class=\"dataframe\">\n  <thead>\n    <tr style=\"text-align: right;\">\n      <th></th>\n      <th>a</th>\n      <th>b</th>\n    </tr>\n  </thead>\n  <tbody>\n    <tr>\n      <th>0</th>\n      <td>1</td>\n      <td>1</td>\n    </tr>\n    <tr>\n      <th>1</th>\n      <td>2</td>\n      <td>2</td>\n    </tr>\n    <tr>\n      <th>2</th>\n      <td>3</td>\n      <td>3</td>\n    </tr>\n  </tbody>\n</table>\n</div>"
     },
     "metadata": {},
     "execution_count": 17
    }
   ],
   "source": [
    "import pandas as pd\n",
    "\n",
    "df1 = pd.DataFrame({'a':[1,2,3], 'b':[1,2,3]})\n",
    "\n",
    "df1"
   ]
  },
  {
   "cell_type": "code",
   "execution_count": 4,
   "metadata": {},
   "outputs": [
    {
     "output_type": "execute_result",
     "data": {
      "text/plain": [
       "0    1\n",
       "1    2\n",
       "2    3\n",
       "Name: a, dtype: int64"
      ]
     },
     "metadata": {},
     "execution_count": 4
    }
   ],
   "source": [
    "df['a']"
   ]
  },
  {
   "cell_type": "code",
   "execution_count": 11,
   "metadata": {},
   "outputs": [
    {
     "output_type": "execute_result",
     "data": {
      "text/plain": [
       "'{\"a\":1,\"b\":1}\\n{\"a\":2,\"b\":2}\\n{\"a\":3,\"b\":3}'"
      ]
     },
     "metadata": {},
     "execution_count": 11
    }
   ],
   "source": [
    "df.to_json(orient='records', lines=True)"
   ]
  },
  {
   "cell_type": "code",
   "execution_count": 13,
   "metadata": {},
   "outputs": [],
   "source": [
    "import json\n",
    "\n",
    "print(df.to_json(orient='records', lines=True))\n",
    "\n",
    "with open('test_data.jsonl', 'w') as outfile:\n",
    "    json.dump(df.to_json(orient='records', lines=True), outfile)"
   ]
  },
  {
   "cell_type": "code",
   "execution_count": 20,
   "metadata": {},
   "outputs": [
    {
     "output_type": "stream",
     "name": "stdout",
     "text": [
      "  label     pattern\n0  DRUG     aspirin\n1  DRUG   trazodone\n2  DRUG  citalopram\n   a  b\n0  1  1\n1  2  2\n2  3  3\n{\"label\":\"DRUG\",\"pattern\":\"aspirin\"}\n{\"label\":\"DRUG\",\"pattern\":\"trazodone\"}\n{\"label\":\"DRUG\",\"pattern\":\"citalopram\"}\n"
     ]
    }
   ],
   "source": [
    "import pandas as pd\n",
    "\n",
    "data = [{'label': 'DRUG', 'pattern': 'aspirin'},\n",
    "        {'label': 'DRUG', 'pattern': 'trazodone'},\n",
    "        {'label': 'DRUG', 'pattern': 'citalopram'}]\n",
    "df = pd.DataFrame(data)\n",
    "\n",
    "print(df)\n",
    "\n",
    "print(df1)\n",
    "\n",
    "# Output in JSONL format\n",
    "print(df.to_json(orient='records', lines=True))"
   ]
  },
  {
   "cell_type": "code",
   "execution_count": 36,
   "metadata": {},
   "outputs": [
    {
     "output_type": "execute_result",
     "data": {
      "text/plain": [
       "  device_id                                                  x  \\\n",
       "0       001  [0.128, 0.147, 0.151, 0.17, 0.094, 0.091, 0.10...   \n",
       "0       001  [0.128, 0.147, 0.151, 0.17, 0.094, 0.091, 0.10...   \n",
       "\n",
       "                                                   y  \\\n",
       "0  [0.034, 0.094, 0.102, 0.087, 0.087, 0.098, 0.0...   \n",
       "0  [0.034, 0.094, 0.102, 0.087, 0.087, 0.098, 0.0...   \n",
       "\n",
       "                                                   z     sr       cloud_t  \n",
       "0  [-0.162, -0.2, -0.113, -0.075, -0.117, -0.23, ...  31.25  1.617811e+09  \n",
       "0  [-0.162, -0.2, -0.113, -0.075, -0.117, -0.23, ...  31.25  1.617811e+09  "
      ],
      "text/html": "<div>\n<style scoped>\n    .dataframe tbody tr th:only-of-type {\n        vertical-align: middle;\n    }\n\n    .dataframe tbody tr th {\n        vertical-align: top;\n    }\n\n    .dataframe thead th {\n        text-align: right;\n    }\n</style>\n<table border=\"1\" class=\"dataframe\">\n  <thead>\n    <tr style=\"text-align: right;\">\n      <th></th>\n      <th>device_id</th>\n      <th>x</th>\n      <th>y</th>\n      <th>z</th>\n      <th>sr</th>\n      <th>cloud_t</th>\n    </tr>\n  </thead>\n  <tbody>\n    <tr>\n      <th>0</th>\n      <td>001</td>\n      <td>[0.128, 0.147, 0.151, 0.17, 0.094, 0.091, 0.10...</td>\n      <td>[0.034, 0.094, 0.102, 0.087, 0.087, 0.098, 0.0...</td>\n      <td>[-0.162, -0.2, -0.113, -0.075, -0.117, -0.23, ...</td>\n      <td>31.25</td>\n      <td>1.617811e+09</td>\n    </tr>\n    <tr>\n      <th>0</th>\n      <td>001</td>\n      <td>[0.128, 0.147, 0.151, 0.17, 0.094, 0.091, 0.10...</td>\n      <td>[0.034, 0.094, 0.102, 0.087, 0.087, 0.098, 0.0...</td>\n      <td>[-0.162, -0.2, -0.113, -0.075, -0.117, -0.23, ...</td>\n      <td>31.25</td>\n      <td>1.617811e+09</td>\n    </tr>\n  </tbody>\n</table>\n</div>"
     },
     "metadata": {},
     "execution_count": 36
    }
   ],
   "source": [
    "a = pd.DataFrame(\n",
    "{'device_id': '001',\n",
    "    'x': [[0.128, 0.147, 0.151, 0.17, 0.094, 0.091, 0.106, 0.189, 0.091, 0.083, 0.075, 0.121, 0.158, 0.087, 0.091, 0.132, 0.034, 0.102, 0.098, 0.026, 0.128, 0.083, 0.072, 0.079, 0.041, 0.083, 0.174, 0.102, 0.091, 0.17, 0.079, 0.136]],\n",
    "    'y': [[0.034, 0.094, 0.102, 0.087, 0.087, 0.098, 0.0, 0.087, 0.034, -0.034, 0.0, 0.124, 0.023, 0.106, 0.06, 0.079, 0.008, 0.038, 0.053, 0.026, 0.117, 0.091, 0.072, 0.06, 0.143, 0.098, 0.038, 0.124, 0.162, 0.079, 0.068, 0.087]],\n",
    "    'z': [[-0.162, -0.2, -0.113, -0.075, -0.117, -0.23, -0.26, -0.189, -0.189, -0.053, -0.06, -0.181, -0.106, -0.117, -0.158, -0.189, -0.121, -0.102, -0.109, -0.079, -0.06, -0.083, -0.113, -0.113, -0.241, -0.211, -0.128, -0.015, -0.2, -0.075, -0.106, -0.196]],\n",
    "    'sr': 31.25,\n",
    "    'cloud_t': 1617811029.331046\n",
    "    }\n",
    ")\n",
    "\n",
    "a = a.append(a)\n",
    "\n",
    "a"
   ]
  },
  {
   "cell_type": "code",
   "execution_count": 38,
   "metadata": {},
   "outputs": [],
   "source": [
    "\n",
    "with open('test_data.jsonl', 'w') as outfile:\n",
    "    json.dump(a.to_json(), outfile)\n"
   ]
  },
  {
   "cell_type": "code",
   "execution_count": null,
   "metadata": {},
   "outputs": [],
   "source": []
  }
 ]
}